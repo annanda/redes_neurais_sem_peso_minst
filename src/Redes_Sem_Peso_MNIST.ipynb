{
 "cells": [
  {
   "cell_type": "markdown",
   "metadata": {},
   "source": [
    "<header style=\"text-align: center;\">\n",
    "    <h1 style=\"font-variant: small-caps; padding-bottom: .5em;\">\n",
    "        PyWANN e MNIST\n",
    "    </h1>\n",
    "    <br>\n",
    "    <h2 style=\"font-variant: small-caps; padding-bottom: .5em;\">\n",
    "        Annanda Dandi de Freitas Sousa e Yuri de Jesus Lopes de Abreu\n",
    "    </h2>    \n",
    "</header>"
   ]
  },
  {
   "cell_type": "code",
   "execution_count": 25,
   "metadata": {
    "collapsed": false
   },
   "outputs": [
    {
     "name": "stdout",
     "output_type": "stream",
     "text": [
      "MNIST carregado com sucesso\n"
     ]
    }
   ],
   "source": [
    "# Importação do MNIST\n",
    "from sklearn import metrics\n",
    "from sklearn.metrics import accuracy_score\n",
    "from sklearn.datasets import fetch_mldata\n",
    "import gzip\n",
    "\n",
    "mnist = fetch_mldata(\"MNIST original\")\n",
    "\n",
    "y = mnist.target\n",
    "X = mnist.data\n",
    "\n",
    "'''\n",
    "Os dados em y vêm de 0. a 9.\n",
    "É preciso transformá-los para notação binária para ser usada pela PyWANN\n",
    "'''\n",
    "\n",
    "'''\n",
    "Retorna uma lista cujos índices são representações binárias dos valores de y\n",
    "\n",
    "Por exemplo, \n",
    "    0 = [1, 0, 0, 0, 0, 0, 0, 0, 0, 0]\n",
    "    3 = [0, 0, 0, 1, 0, 0, 0, 0, 0, 0]\n",
    "    9 = [0, 0, 0, 0, 0, 0, 0, 0, 0, 1]\n",
    "'''\n",
    "\n",
    "def formatarY(yf):\n",
    "    ylist = []\n",
    "    for i in xrange(len(y)):\n",
    "        atual = [0, 0, 0, 0, 0, 0, 0, 0, 0, 0]\n",
    "        atual[int(y[i])] = 1\n",
    "        ylist.append(atual)\n",
    "    return ylist\n",
    "\n",
    "yBin = y#formatarY(y)\n",
    "\n",
    "y_train, y_test = yBin[:60000], yBin[60000:]\n",
    "\n",
    "'''\n",
    "Agora, carregamos os dados de X\n",
    "'''\n",
    "\n",
    "X_train = []\n",
    "'''\n",
    "with gzip.open(r'C:\\Users\\Yuri\\Desktop\\dataset-treino\\3_threshold.txt.gz', 'rb') as f:\n",
    "    file_content = f.readlines()\n",
    "    \n",
    "    for i in range(len(file_content)):                    \n",
    "        lista_linha = file_content[i].replace(\" \", \"\").replace(\"\\n\", \"\").split(',')\n",
    "        lista_linha = map(int, lista_linha)\n",
    "        X_train.append(lista_linha)\n",
    "'''\n",
    "print (\"MNIST carregado com sucesso\")"
   ]
  },
  {
   "cell_type": "markdown",
   "metadata": {},
   "source": [
    "Temos agora o dataset carregado e em formato binário, pronto para alimentar a PyWANN."
   ]
  },
  {
   "cell_type": "code",
   "execution_count": 3,
   "metadata": {
    "collapsed": false
   },
   "outputs": [],
   "source": [
    "from PyWANN.WiSARD import WiSARD\n",
    "\n",
    "num_bits_addr = 6\n",
    "randomize_positions = True\n",
    "bleaching = True\n",
    "        \n",
    "w = WiSARD(num_bits_addr, bleaching, randomize_positions)\n",
    "\n",
    "w.fit(X_train, y_train)\n"
   ]
  },
  {
   "cell_type": "code",
   "execution_count": 41,
   "metadata": {
    "collapsed": false
   },
   "outputs": [],
   "source": [
    "y_t = [0., 1., 2., 3., 4., 5., 6., 7., 8., 9.]\n",
    "\n",
    "k = 0\n",
    "p = 0\n",
    "\n",
    "x_t = []\n",
    "\n",
    "for i in xrange(len(X_train)):\n",
    "    if(int(y_train[i]) == k):\n",
    "        p+=1\n",
    "        x_t.append(X_train[i])\n",
    "    if(p==10):\n",
    "        p=0\n",
    "        k+=1\n",
    "    if k == 10 and p == 10:\n",
    "        break"
   ]
  },
  {
   "cell_type": "code",
   "execution_count": 42,
   "metadata": {
    "collapsed": false
   },
   "outputs": [
    {
     "name": "stdout",
     "output_type": "stream",
     "text": [
      "100\n"
     ]
    }
   ],
   "source": [
    "print len(x_t)"
   ]
  },
  {
   "cell_type": "code",
   "execution_count": 43,
   "metadata": {
    "collapsed": false
   },
   "outputs": [],
   "source": [
    "num_bits_addr = 7\n",
    "randomize_positions = False\n",
    "bleaching = False\n",
    "        \n",
    "w = WiSARD(num_bits_addr, bleaching, randomize_positions)\n",
    "\n",
    "w.fit(x_t, y_t)"
   ]
  },
  {
   "cell_type": "code",
   "execution_count": 44,
   "metadata": {
    "collapsed": false
   },
   "outputs": [
    {
     "name": "stdout",
     "output_type": "stream",
     "text": [
      "\n",
      "Accuracy: 0.049\n"
     ]
    }
   ],
   "source": [
    "predicted = w.predict(X_train[:1000])\n",
    "expected = y_train[:1000]\n",
    "\n",
    "accuracy = accuracy_score(predicted, expected)\n",
    "print (\"\\nAccuracy: %s\" % accuracy)"
   ]
  },
  {
   "cell_type": "code",
   "execution_count": 26,
   "metadata": {
    "collapsed": false
   },
   "outputs": [
    {
     "name": "stdout",
     "output_type": "stream",
     "text": [
      "Terminado\n"
     ]
    }
   ],
   "source": [
    "def binarizarX(xd, threshold):\n",
    "    result = list(xd)\n",
    "    for i in xrange(len(result)):\n",
    "        for j in xrange(len(result[i])):\n",
    "            if result[i][j] >= threshold:\n",
    "                result[i][j] = 1\n",
    "            else:\n",
    "                result[i][j] = 0\n",
    "    return result\n",
    "\n",
    "xb = binarizarX(X, 1)\n",
    "print \"Terminado\""
   ]
  },
  {
   "cell_type": "code",
   "execution_count": null,
   "metadata": {
    "collapsed": false
   },
   "outputs": [],
   "source": [
    "from PyWANN.WiSARD import WiSARD\n",
    "\n",
    "y_t = []#[0., 1., 2., 3., 4., 5., 6., 7., 8., 9.]\n",
    "\n",
    "k = 0\n",
    "p = 0\n",
    "\n",
    "X_train = xb[:60000]\n",
    "\n",
    "x_t = []\n",
    "\n",
    "maxe = 50\n",
    "\n",
    "for i in xrange(len(X_train)):\n",
    "    if(int(y_train[i]) == k):\n",
    "        p+=1\n",
    "        x_t.append(X_train[i])\n",
    "        y_t.append(k)\n",
    "    if(p==maxe):\n",
    "        p=0\n",
    "        k+=1\n",
    "    if k == maxe and p == maxe:\n",
    "        break\n",
    "\n",
    "num_bits_addr = 7\n",
    "randomize_positions = False\n",
    "bleaching = False\n",
    "        \n",
    "w = WiSARD(num_bits_addr, bleaching, randomize_positions)\n",
    "\n",
    "w.fit(x_t, y_t)"
   ]
  },
  {
   "cell_type": "code",
   "execution_count": null,
   "metadata": {
    "collapsed": false
   },
   "outputs": [],
   "source": [
    "predicted = w.predict(xb[60000:])\n",
    "expected = y_test\n",
    "\n",
    "accuracy = accuracy_score(predicted, expected)\n",
    "print (\"\\nAccuracy: %s\" % accuracy)"
   ]
  },
  {
   "cell_type": "markdown",
   "metadata": {},
   "source": [
    "Executar o primeiro bloco e os três últimos blocos de código"
   ]
  },
  {
   "cell_type": "code",
   "execution_count": null,
   "metadata": {
    "collapsed": true
   },
   "outputs": [],
   "source": []
  }
 ],
 "metadata": {
  "kernelspec": {
   "display_name": "Python 2",
   "language": "python",
   "name": "python2"
  },
  "language_info": {
   "codemirror_mode": {
    "name": "ipython",
    "version": 2
   },
   "file_extension": ".py",
   "mimetype": "text/x-python",
   "name": "python",
   "nbconvert_exporter": "python",
   "pygments_lexer": "ipython2",
   "version": "2.7.13"
  }
 },
 "nbformat": 4,
 "nbformat_minor": 2
}
