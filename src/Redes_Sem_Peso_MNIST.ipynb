{
 "cells": [
  {
   "cell_type": "markdown",
   "metadata": {},
   "source": [
    "<header style=\"text-align: center;\">\n",
    "    <h1 style=\"font-variant: small-caps; padding-bottom: .5em;\">\n",
    "        PyWANN e MNIST\n",
    "    </h1>\n",
    "    <br>\n",
    "    <h2 style=\"font-variant: small-caps; padding-bottom: .5em;\">\n",
    "        Annanda Dandi de Freitas Sousa e Yuri de Jesus Lopes de Abreu\n",
    "    </h2>    \n",
    "</header>"
   ]
  },
  {
   "cell_type": "code",
   "execution_count": 17,
   "metadata": {
    "collapsed": false
   },
   "outputs": [
    {
     "name": "stdout",
     "output_type": "stream",
     "text": [
      "MNIST carregado com sucesso\n"
     ]
    }
   ],
   "source": [
    "# Importação do MNIST\n",
    "from sklearn import metrics\n",
    "from sklearn.metrics import accuracy_score\n",
    "from sklearn.datasets import fetch_mldata\n",
    "from PyWANN.WiSARD import WiSARD\n",
    "\n",
    "mnist = fetch_mldata(\"MNIST original\")\n",
    "\n",
    "y = mnist.target\n",
    "X = mnist.data\n",
    "\n",
    "y_train, y_test = y[:60000], y[60000:]\n",
    "\n",
    "print (\"MNIST carregado com sucesso\")"
   ]
  },
  {
   "cell_type": "code",
   "execution_count": null,
   "metadata": {
    "collapsed": false
   },
   "outputs": [
    {
     "name": "stdout",
     "output_type": "stream",
     "text": [
      "Iniciando treinamento da rede\n"
     ]
    }
   ],
   "source": [
    "def binarizarX(xd, threshold):\n",
    "    result = list(xd)\n",
    "    for i in xrange(len(result)):\n",
    "        for j in xrange(len(result[i])):\n",
    "            if result[i][j] >= threshold:\n",
    "                result[i][j] = 1\n",
    "            else:\n",
    "                result[i][j] = 0\n",
    "    return result\n",
    "\n",
    "print \"Iniciando treinamento da rede\"\n",
    "\n",
    "for i in xrange(1, 256):\n",
    "    \n",
    "    xb = binarizarX(X, i)\n",
    "\n",
    "    X_train = xb[:60000]\n",
    "\n",
    "    num_bits_addr = 32\n",
    "    bleaching = True\n",
    "\n",
    "    w = WiSARD(num_bits_addr, bleaching)\n",
    "\n",
    "    w.fit(X_train, y_train)\n",
    "\n",
    "    predicted = w.predict(xb[60000:])\n",
    "    expected = y_test\n",
    "\n",
    "    accuracy = accuracy_score(predicted, expected)\n",
    "    print (\"%s, %s\" % (i, accuracy))\n",
    "    \n",
    "print \"Terminado\""
   ]
  },
  {
   "cell_type": "code",
   "execution_count": null,
   "metadata": {
    "collapsed": true
   },
   "outputs": [],
   "source": []
  }
 ],
 "metadata": {
  "kernelspec": {
   "display_name": "Python 2",
   "language": "python",
   "name": "python2"
  },
  "language_info": {
   "codemirror_mode": {
    "name": "ipython",
    "version": 2
   },
   "file_extension": ".py",
   "mimetype": "text/x-python",
   "name": "python",
   "nbconvert_exporter": "python",
   "pygments_lexer": "ipython2",
   "version": "2.7.13"
  }
 },
 "nbformat": 4,
 "nbformat_minor": 2
}
