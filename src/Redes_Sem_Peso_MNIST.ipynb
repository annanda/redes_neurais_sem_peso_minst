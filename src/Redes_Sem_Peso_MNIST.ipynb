{
 "cells": [
  {
   "cell_type": "markdown",
   "metadata": {},
   "source": [
    "<header style=\"text-align: center;\">\n",
    "    <h1 style=\"font-variant: small-caps; padding-bottom: .5em;\">\n",
    "        PyWANN e MNIST\n",
    "    </h1>\n",
    "    <br>\n",
    "    <h2 style=\"font-variant: small-caps; padding-bottom: .5em;\">\n",
    "        Annanda Dandi de Freitas Sousa e Yuri de Jesus Lopes de Abreu\n",
    "    </h2>    \n",
    "</header>"
   ]
  },
  {
   "cell_type": "code",
   "execution_count": 88,
   "metadata": {
    "collapsed": false
   },
   "outputs": [
    {
     "name": "stdout",
     "output_type": "stream",
     "text": [
      "MNIST carregado com sucesso\n"
     ]
    }
   ],
   "source": [
    "# Importação do MNIST\n",
    "from sklearn import metrics\n",
    "from sklearn.metrics import accuracy_score\n",
    "from sklearn.datasets import fetch_mldata\n",
    "import gzip\n",
    "\n",
    "mnist = fetch_mldata(\"MNIST original\")\n",
    "\n",
    "y = mnist.target\n",
    "\n",
    "'''\n",
    "Os dados em y vêm de 0. a 9.\n",
    "É preciso transformá-los para notação binária para ser usada pela PyWANN\n",
    "'''\n",
    "\n",
    "'''\n",
    "Retorna uma lista cujos índices são representações binárias dos valores de y\n",
    "\n",
    "Por exemplo, \n",
    "    0 = [1, 0, 0, 0, 0, 0, 0, 0, 0, 0]\n",
    "    3 = [0, 0, 0, 1, 0, 0, 0, 0, 0, 0]\n",
    "    9 = [0, 0, 0, 0, 0, 0, 0, 0, 0, 1]\n",
    "'''\n",
    "\n",
    "def formatarY(yf):\n",
    "    ylist = []\n",
    "    for i in xrange(len(y)):\n",
    "        atual = [0, 0, 0, 0, 0, 0, 0, 0, 0, 0]\n",
    "        atual[int(y[i])] = 1\n",
    "        ylist.append(atual)\n",
    "    return ylist\n",
    "\n",
    "yBin = y#formatarY(y)\n",
    "\n",
    "y_train, y_test = yBin[:60000], yBin[60000:]\n",
    "\n",
    "'''\n",
    "Agora, carregamos os dados de X\n",
    "'''\n",
    "\n",
    "X_train = []\n",
    "\n",
    "with gzip.open(r'C:\\Users\\Yuri\\Desktop\\10_threshold.txt.gz', 'rb') as f:\n",
    "    file_content = f.readlines()\n",
    "    \n",
    "    for i in range(len(file_content)):                    \n",
    "        lista_linha = file_content[i].replace(\" \", \"\").replace(\"\\n\", \"\").split(',')\n",
    "        lista_linha = map(int, lista_linha_1)\n",
    "        X_train.append(lista_linha)\n",
    "\n",
    "print (\"MNIST carregado com sucesso\")"
   ]
  },
  {
   "cell_type": "markdown",
   "metadata": {},
   "source": [
    "Temos agora o dataset carregado e em formato binário, pronto para alimentar a PyWANN."
   ]
  },
  {
   "cell_type": "code",
   "execution_count": 90,
   "metadata": {
    "collapsed": false
   },
   "outputs": [],
   "source": [
    "from PyWANN.WiSARD import WiSARD\n",
    "\n",
    "num_bits_addr = 6\n",
    "randomize_positions = True\n",
    "bleaching = True\n",
    "        \n",
    "w = WiSARD(num_bits_addr, bleaching, randomize_positions)\n",
    "\n",
    "w.fit(X_train, y_train)\n"
   ]
  },
  {
   "cell_type": "code",
   "execution_count": 91,
   "metadata": {
    "collapsed": false
   },
   "outputs": [
    {
     "ename": "KeyboardInterrupt",
     "evalue": "",
     "output_type": "error",
     "traceback": [
      "\u001b[0;31m---------------------------------------------------------------------------\u001b[0m",
      "\u001b[0;31mKeyboardInterrupt\u001b[0m                         Traceback (most recent call last)",
      "\u001b[0;32m<ipython-input-91-7afa431cb65b>\u001b[0m in \u001b[0;36m<module>\u001b[0;34m()\u001b[0m\n\u001b[0;32m----> 1\u001b[0;31m \u001b[0my_predicted\u001b[0m \u001b[1;33m=\u001b[0m \u001b[0mw\u001b[0m\u001b[1;33m.\u001b[0m\u001b[0mpredict\u001b[0m\u001b[1;33m(\u001b[0m\u001b[0mX_train\u001b[0m\u001b[1;33m)\u001b[0m\u001b[1;33m\u001b[0m\u001b[0m\n\u001b[0m\u001b[1;32m      2\u001b[0m \u001b[1;33m\u001b[0m\u001b[0m\n\u001b[1;32m      3\u001b[0m \u001b[0maccuracy\u001b[0m \u001b[1;33m=\u001b[0m \u001b[0maccuracy_score\u001b[0m\u001b[1;33m(\u001b[0m\u001b[0my_predicted\u001b[0m\u001b[1;33m,\u001b[0m \u001b[0my_train\u001b[0m\u001b[1;33m)\u001b[0m\u001b[1;33m\u001b[0m\u001b[0m\n\u001b[1;32m      4\u001b[0m \u001b[1;33m\u001b[0m\u001b[0m\n\u001b[1;32m      5\u001b[0m \u001b[1;32mprint\u001b[0m \u001b[1;33m(\u001b[0m\u001b[1;34m\"Confusion matrix:\\n%s\"\u001b[0m \u001b[1;33m%\u001b[0m \u001b[0mmetrics\u001b[0m\u001b[1;33m.\u001b[0m\u001b[0mconfusion_matrix\u001b[0m\u001b[1;33m(\u001b[0m\u001b[0my_train\u001b[0m\u001b[1;33m,\u001b[0m \u001b[0my_predicted\u001b[0m\u001b[1;33m)\u001b[0m\u001b[1;33m)\u001b[0m\u001b[1;33m\u001b[0m\u001b[0m\n",
      "\u001b[0;32mC:\\Users\\Yuri\\Anaconda2\\lib\\site-packages\\PyWANN\\WiSARD.pyc\u001b[0m in \u001b[0;36mpredict\u001b[0;34m(self, X)\u001b[0m\n\u001b[1;32m     91\u001b[0m         \u001b[0mfinal_result\u001b[0m \u001b[1;33m=\u001b[0m \u001b[1;33m[\u001b[0m\u001b[1;33m]\u001b[0m\u001b[1;33m\u001b[0m\u001b[0m\n\u001b[1;32m     92\u001b[0m \u001b[1;33m\u001b[0m\u001b[0m\n\u001b[0;32m---> 93\u001b[0;31m         \u001b[0mresults\u001b[0m \u001b[1;33m=\u001b[0m \u001b[0mself\u001b[0m\u001b[1;33m.\u001b[0m\u001b[0mpredict_proba\u001b[0m\u001b[1;33m(\u001b[0m\u001b[0mX\u001b[0m\u001b[1;33m)\u001b[0m\u001b[1;33m\u001b[0m\u001b[0m\n\u001b[0m\u001b[1;32m     94\u001b[0m         \u001b[1;32mfor\u001b[0m \u001b[0mres\u001b[0m \u001b[1;32min\u001b[0m \u001b[0mresults\u001b[0m\u001b[1;33m:\u001b[0m\u001b[1;33m\u001b[0m\u001b[0m\n\u001b[1;32m     95\u001b[0m             \u001b[0mindex\u001b[0m \u001b[1;33m=\u001b[0m \u001b[0mnp\u001b[0m\u001b[1;33m.\u001b[0m\u001b[0margmax\u001b[0m\u001b[1;33m(\u001b[0m\u001b[0mres\u001b[0m\u001b[1;33m)\u001b[0m\u001b[1;33m\u001b[0m\u001b[0m\n",
      "\u001b[0;32mC:\\Users\\Yuri\\Anaconda2\\lib\\site-packages\\PyWANN\\WiSARD.pyc\u001b[0m in \u001b[0;36mpredict_proba\u001b[0;34m(self, X)\u001b[0m\n\u001b[1;32m    105\u001b[0m \u001b[1;33m\u001b[0m\u001b[0m\n\u001b[1;32m    106\u001b[0m             \u001b[1;32mif\u001b[0m \u001b[0mself\u001b[0m\u001b[1;33m.\u001b[0m\u001b[0m__bleaching\u001b[0m\u001b[1;33m:\u001b[0m\u001b[1;33m\u001b[0m\u001b[0m\n\u001b[0;32m--> 107\u001b[0;31m                 \u001b[0mresult_x\u001b[0m \u001b[1;33m=\u001b[0m \u001b[0mself\u001b[0m\u001b[1;33m.\u001b[0m\u001b[0m__predict_with_bleaching\u001b[0m\u001b[1;33m(\u001b[0m\u001b[0mx\u001b[0m\u001b[1;33m)\u001b[0m\u001b[1;33m\u001b[0m\u001b[0m\n\u001b[0m\u001b[1;32m    108\u001b[0m                 \u001b[0mresult\u001b[0m\u001b[1;33m.\u001b[0m\u001b[0mappend\u001b[0m\u001b[1;33m(\u001b[0m\u001b[0mresult_x\u001b[0m\u001b[1;33m)\u001b[0m\u001b[1;33m\u001b[0m\u001b[0m\n\u001b[1;32m    109\u001b[0m             \u001b[1;32melse\u001b[0m\u001b[1;33m:\u001b[0m\u001b[1;33m\u001b[0m\u001b[0m\n",
      "\u001b[0;32mC:\\Users\\Yuri\\Anaconda2\\lib\\site-packages\\PyWANN\\WiSARD.pyc\u001b[0m in \u001b[0;36m__predict_with_bleaching\u001b[0;34m(self, x)\u001b[0m\n\u001b[1;32m    119\u001b[0m \u001b[1;33m\u001b[0m\u001b[0m\n\u001b[1;32m    120\u001b[0m         res_disc = np.array([self.__discriminators[class_name].predict(x)\n\u001b[0;32m--> 121\u001b[0;31m                              for class_name in self.classes_])\n\u001b[0m\u001b[1;32m    122\u001b[0m \u001b[1;33m\u001b[0m\u001b[0m\n\u001b[1;32m    123\u001b[0m         \u001b[1;32mwhile\u001b[0m \u001b[0mconfidence\u001b[0m \u001b[1;33m<\u001b[0m \u001b[0mself\u001b[0m\u001b[1;33m.\u001b[0m\u001b[0m__confidence_threshold\u001b[0m\u001b[1;33m:\u001b[0m\u001b[1;33m\u001b[0m\u001b[0m\n",
      "\u001b[0;32mC:\\Users\\Yuri\\Anaconda2\\lib\\site-packages\\PyWANN\\Discriminator.pyc\u001b[0m in \u001b[0;36mpredict\u001b[0;34m(self, retina)\u001b[0m\n\u001b[1;32m    101\u001b[0m             \u001b[0mmem_index\u001b[0m \u001b[1;33m=\u001b[0m \u001b[0mi\u001b[0m\u001b[1;33m/\u001b[0m\u001b[0mself\u001b[0m\u001b[1;33m.\u001b[0m\u001b[0m__num_bits_addr\u001b[0m\u001b[1;33m\u001b[0m\u001b[0m\n\u001b[1;32m    102\u001b[0m             \u001b[0mvalue\u001b[0m \u001b[1;33m=\u001b[0m \u001b[0mself\u001b[0m\u001b[1;33m.\u001b[0m\u001b[0m__memories\u001b[0m\u001b[1;33m[\u001b[0m\u001b[0mmem_index\u001b[0m\u001b[1;33m]\u001b[0m\u001b[1;33m.\u001b[0m\u001b[0mget_value\u001b[0m\u001b[1;33m(\u001b[0m\u001b[0maddr\u001b[0m\u001b[1;33m=\u001b[0m\u001b[0mint_addr\u001b[0m\u001b[1;33m)\u001b[0m\u001b[1;33m\u001b[0m\u001b[0m\n\u001b[0;32m--> 103\u001b[0;31m             \u001b[0mresult\u001b[0m\u001b[1;33m.\u001b[0m\u001b[0mappend\u001b[0m\u001b[1;33m(\u001b[0m\u001b[0mvalue\u001b[0m\u001b[1;33m)\u001b[0m\u001b[1;33m\u001b[0m\u001b[0m\n\u001b[0m\u001b[1;32m    104\u001b[0m \u001b[1;33m\u001b[0m\u001b[0m\n\u001b[1;32m    105\u001b[0m         \u001b[1;31m# if there is rest positions\u001b[0m\u001b[1;33m\u001b[0m\u001b[1;33m\u001b[0m\u001b[0m\n",
      "\u001b[0;31mKeyboardInterrupt\u001b[0m: "
     ]
    }
   ],
   "source": [
    "y_predicted = w.predict(X_train)\n",
    "\n",
    "accuracy = accuracy_score(y_predicted, y_train)\n",
    "\n",
    "print (\"Confusion matrix:\\n%s\" % metrics.confusion_matrix(y_train, y_predicted))\n",
    "print (\"\\nAccuracy: %s\" % accuracy)"
   ]
  },
  {
   "cell_type": "code",
   "execution_count": null,
   "metadata": {
    "collapsed": false
   },
   "outputs": [],
   "source": []
  },
  {
   "cell_type": "code",
   "execution_count": null,
   "metadata": {
    "collapsed": true
   },
   "outputs": [],
   "source": []
  }
 ],
 "metadata": {
  "kernelspec": {
   "display_name": "Python 2",
   "language": "python",
   "name": "python2"
  },
  "language_info": {
   "codemirror_mode": {
    "name": "ipython",
    "version": 2
   },
   "file_extension": ".py",
   "mimetype": "text/x-python",
   "name": "python",
   "nbconvert_exporter": "python",
   "pygments_lexer": "ipython2",
   "version": "2.7.13"
  }
 },
 "nbformat": 4,
 "nbformat_minor": 2
}
